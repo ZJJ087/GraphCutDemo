{
 "cells": [
  {
   "cell_type": "code",
   "execution_count": 65,
   "metadata": {
    "collapsed": true,
    "pycharm": {
     "name": "#%%\n"
    }
   },
   "outputs": [],
   "source": [
    "import pymetis\n",
    "import numpy as np\n",
    "import networkx as nx\n",
    "import os\n",
    "import math\n",
    "import time"
   ]
  },
  {
   "cell_type": "code",
   "execution_count": 43,
   "outputs": [],
   "source": [
    "f = open(\"data/fb-pages-politician.edges\",encoding='utf-8')"
   ],
   "metadata": {
    "collapsed": false,
    "pycharm": {
     "name": "#%%\n"
    }
   }
  },
  {
   "cell_type": "code",
   "execution_count": 44,
   "outputs": [],
   "source": [
    "contents = f.readline()\n",
    "dict = {}\n",
    "while contents:\n",
    "    contents = contents[:-1]\n",
    "    nodes = contents.split(',')\n",
    "    node1 = int(nodes[0])\n",
    "    node2 = int(nodes[1])\n",
    "    if dict.get(node1, None) is None:\n",
    "        tmp = [node2]\n",
    "        dict[node1] = tmp\n",
    "    else:\n",
    "        dict[node1].append(node2)\n",
    "    if dict.get(node2,None) is None:\n",
    "        tmp2 = [node1]\n",
    "        dict[node2] = tmp2\n",
    "    else:\n",
    "        dict[node2].append(node1)\n",
    "    contents = f.readline()\n",
    "\n",
    "adj = []\n",
    "idx = -1\n",
    "for key in dict:\n",
    "    idx = max(idx,key)\n",
    "\n",
    "for i in range(0,idx+1):\n",
    "    if dict.get(i,None) is None:\n",
    "        adj.append([])\n",
    "    else:\n",
    "        adj.append(dict.get(i,None))"
   ],
   "metadata": {
    "collapsed": false,
    "pycharm": {
     "name": "#%%\n"
    }
   }
  },
  {
   "cell_type": "code",
   "execution_count": 49,
   "outputs": [],
   "source": [
    "(edgecuts,parts) = pymetis.part_graph(nparts=3,adjacency=adj)"
   ],
   "metadata": {
    "collapsed": false,
    "pycharm": {
     "name": "#%%\n"
    }
   }
  },
  {
   "cell_type": "code",
   "execution_count": 69,
   "outputs": [
    {
     "name": "stdout",
     "output_type": "stream",
     "text": [
      "27.581152200698853 s\n"
     ]
    }
   ],
   "source": [
    "maxParts = 200\n",
    "vector = None\n",
    "start = time.time()\n",
    "for parts in range(2,math.ceil(maxParts)):\n",
    "    (edgecuts,pm) = pymetis.part_graph(nparts=parts,adjacency=adj)\n",
    "    tmp = np.zeros((idx+1,parts))\n",
    "    for i in range(0,len(pm)):\n",
    "        ix = pm[i]\n",
    "        tmp[i][ix] = 1\n",
    "    if vector is None:\n",
    "        vector = tmp\n",
    "    else:\n",
    "        vector = np.append(vector,tmp,axis=1)\n",
    "\n",
    "end = time.time()\n",
    "print(end-start,'s')"
   ],
   "metadata": {
    "collapsed": false,
    "pycharm": {
     "name": "#%%\n"
    }
   }
  },
  {
   "cell_type": "code",
   "execution_count": 71,
   "outputs": [
    {
     "data": {
      "text/plain": "array([[0., 1., 0., ..., 0., 0., 0.],\n       [0., 1., 0., ..., 0., 0., 0.],\n       [0., 1., 0., ..., 0., 0., 0.],\n       ...,\n       [1., 0., 0., ..., 0., 0., 0.],\n       [0., 1., 1., ..., 0., 0., 0.],\n       [0., 1., 0., ..., 0., 0., 0.]])"
     },
     "execution_count": 71,
     "metadata": {},
     "output_type": "execute_result"
    }
   ],
   "source": [
    "vector"
   ],
   "metadata": {
    "collapsed": false,
    "pycharm": {
     "name": "#%%\n"
    }
   }
  },
  {
   "cell_type": "code",
   "execution_count": 54,
   "outputs": [
    {
     "name": "stdout",
     "output_type": "stream",
     "text": [
      "[[0 0 0]\n",
      " [0 0 0]\n",
      " [1 2 3]\n",
      " [4 5 6]\n",
      " [7 8 9]]\n",
      "[[1 2 3 0 0]\n",
      " [4 5 6 0 0]\n",
      " [7 8 9 0 0]]\n"
     ]
    }
   ],
   "source": [
    "\n",
    "a = np.array([[1,2,3],[4,5,6],[7,8,9]])\n",
    "b = np.array([[0,0,0],[0,0,0]])\n",
    "c = np.insert(a, 0, values=b, axis=0)\n",
    "d = np.insert(a, len(a), values=b, axis=1)\n",
    "print(c)\n",
    "print(d)"
   ],
   "metadata": {
    "collapsed": false,
    "pycharm": {
     "name": "#%%\n"
    }
   }
  },
  {
   "cell_type": "code",
   "execution_count": null,
   "outputs": [],
   "source": [],
   "metadata": {
    "collapsed": false,
    "pycharm": {
     "name": "#%%\n"
    }
   }
  }
 ],
 "metadata": {
  "kernelspec": {
   "display_name": "Python 3",
   "language": "python",
   "name": "python3"
  },
  "language_info": {
   "codemirror_mode": {
    "name": "ipython",
    "version": 2
   },
   "file_extension": ".py",
   "mimetype": "text/x-python",
   "name": "python",
   "nbconvert_exporter": "python",
   "pygments_lexer": "ipython2",
   "version": "2.7.6"
  }
 },
 "nbformat": 4,
 "nbformat_minor": 0
}